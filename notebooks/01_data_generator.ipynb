{
 "cells": [
  {
   "cell_type": "markdown",
   "metadata": {},
   "source": [
    "## <center> Data Generator </center>"
   ]
  },
  {
   "cell_type": "markdown",
   "metadata": {},
   "source": [
    "### <center> Polytechnic University of Leiria </center>"
   ]
  },
  {
   "cell_type": "markdown",
   "metadata": {},
   "source": [
    "#### <center> Patrícia Isabel Santos Martinho </center>"
   ]
  },
  {
   "cell_type": "markdown",
   "metadata": {},
   "source": [
    "Libraries"
   ]
  },
  {
   "cell_type": "code",
   "execution_count": 108,
   "metadata": {},
   "outputs": [],
   "source": [
    "\n",
    "#from benfordslaw import benfordslaw # type: ignore\n",
    "import numpy as np # type: ignore\n",
    "import matplotlib.pyplot as plt # type: ignore\n",
    "from sklearn.metrics import confusion_matrix, roc_curve, auc\n",
    "from scipy.stats import chi2\n",
    "from scipy.stats import entropy  # Função para calcular KL\n",
    "import pandas as pd"
   ]
  },
  {
   "cell_type": "markdown",
   "metadata": {},
   "source": [
    "Variable Initialization"
   ]
  },
  {
   "cell_type": "code",
   "execution_count": 109,
   "metadata": {},
   "outputs": [
    {
     "name": "stdout",
     "output_type": "stream",
     "text": [
      "300\n",
      "700\n"
     ]
    }
   ],
   "source": [
    "colunas=1000 # features\n",
    "linhas=1000 # instances\n",
    "prop_linhas_manipuladas=0.3 # proportion of anomalous rows\n",
    "prop_manipul_linha=0.1 # anomalies in an anomalous row\n",
    "intensidade_uniforme=1 # intensity (uniform noise)\n",
    "intensidade_gauss=10 # intensity (gaussian noise)\n",
    "prop_outliers=0.05\n",
    "faixa_outlier=(100000, 500000) # band of outliers\n",
    "np.random.seed(1666)\n",
    "alpha=0.05\n",
    "\n",
    "linhas_manipuladas=int(linhas*prop_linhas_manipuladas) # absolute amount of anomalous rows\n",
    "print(linhas_manipuladas)\n",
    "linhas_s_fraude=linhas-linhas_manipuladas # absolute amount of BL conform rows\n",
    "print(linhas_s_fraude)\n",
    "qtde_fraude_linhaF=int(colunas*prop_manipul_linha) # absolute amount of anomalies in an anomalous row \n",
    "qtde_ben_linhaF=int(colunas*(1-prop_manipul_linha)) # absolute amount of BL conform numbers in an anomalous row \n",
    "\n"
   ]
  },
  {
   "cell_type": "markdown",
   "metadata": {},
   "source": [
    "Funções"
   ]
  },
  {
   "cell_type": "code",
   "execution_count": 110,
   "metadata": {},
   "outputs": [],
   "source": [
    "# Funcion to generator BL conform numbers\n",
    "def gerar_num_benford (n):\n",
    "    uniforme=np.random.uniform(low=0, high=1, size=n)\n",
    "    bfl_numb=10**uniforme\n",
    "    return bfl_numb"
   ]
  },
  {
   "cell_type": "code",
   "execution_count": 111,
   "metadata": {},
   "outputs": [],
   "source": [
    "# Function to get the first digit of a number\n",
    "def obter_primeiro_digito(numero):\n",
    "    num = abs(numero)  # Work only with positive values\n",
    "    if num == 0:\n",
    "        return 0\n",
    "    while num < 1:  # If it is a small decimal number, multiply until it has a digit in the whole part\n",
    "        num *= 10\n",
    "    while num >= 10:  # If it is a large number, divide until on only one digit\n",
    "        num //= 10\n",
    "    return int(num)  # Returns the first digit as an integer\n"
   ]
  },
  {
   "cell_type": "code",
   "execution_count": 112,
   "metadata": {},
   "outputs": [],
   "source": [
    "# Function to save the first digits\n",
    "def array_primeiros_digitos (numeros):\n",
    "    primeiros_digitos=[]\n",
    "    for numero in numeros:\n",
    "        primeiros_digitos.append(obter_primeiro_digito(numero))\n",
    "    primeiros_digitos = [x for x in primeiros_digitos if x != 0]\n",
    "    return primeiros_digitos\n"
   ]
  },
  {
   "cell_type": "code",
   "execution_count": 113,
   "metadata": {},
   "outputs": [],
   "source": [
    "# Function to calculate the frequencies of the first digits\n",
    "def frequencia_primeiros_digitos(numeros):\n",
    "    frequencias = np.zeros(9)  # To store the frequencies of digits 1 through 9\n",
    "    for numero in numeros:\n",
    "        primeiro_digito = obter_primeiro_digito(numero)\n",
    "        frequencias[primeiro_digito - 1] += 1  # Increases the digit count\n",
    "    return frequencias\n"
   ]
  },
  {
   "cell_type": "code",
   "execution_count": 114,
   "metadata": {},
   "outputs": [],
   "source": [
    "# Function to calculate the distribution expected by Benford’s Law\n",
    "def distribuicao_benford(n):\n",
    "    distribution = np.log10(1 + 1 / np.arange(1, 10))  # Benford’s law for digits 1 to 9\n",
    "    distribution[-1] = 1 - sum(distribution[:-1])  # Adjusts the last probability\n",
    "    return distribution*n"
   ]
  },
  {
   "cell_type": "code",
   "execution_count": 115,
   "metadata": {},
   "outputs": [],
   "source": [
    "# Calculate accumulated frequencies from absolute frequencies\n",
    "\n",
    "def f_acumulada (f_relativas):\n",
    "    f_acumuladas=[]\n",
    "    f_acumuladas.append(f_relativas[0])\n",
    "    for i in range(1,len(f_relativas)):\n",
    "        f_acumuladas.append(f_relativas[i]+f_acumuladas[i-1])\n",
    "    return f_acumuladas\n"
   ]
  },
  {
   "cell_type": "code",
   "execution_count": 116,
   "metadata": {},
   "outputs": [],
   "source": [
    "#  Gaussian noise\n",
    "\n",
    "def adicionar_ruido_gaussiano(dados, intensidade):\n",
    "    \"\"\"Adiciona ruído gaussiano aos dados\"\"\"\n",
    "    ruido = np.random.normal(0, intensidade, len(dados))\n",
    "    return dados + ruido"
   ]
  },
  {
   "cell_type": "code",
   "execution_count": 117,
   "metadata": {},
   "outputs": [],
   "source": [
    "# Uniform noise\n",
    "\n",
    "def adicionar_ruido_uniforme(dados, intensidade):\n",
    "    \"\"\"Adiciona ruído uniforme aos dados\"\"\"\n",
    "    ruido = np.random.uniform(-intensidade, intensidade, len(dados))\n",
    "    return dados + ruido"
   ]
  },
  {
   "cell_type": "code",
   "execution_count": 118,
   "metadata": {},
   "outputs": [],
   "source": [
    "# Mixed noise (gaussin noise + uniform noise)\n",
    "\n",
    "def adicionar_ruido_misto(dados, intensidade_gauss, intensidade_uniforme):\n",
    "    \"\"\"Adiciona uma mistura de ruído gaussiano e uniforme aos dados\"\"\"\n",
    "    ruido_gaussiano = np.random.normal(0, intensidade_gauss, len(dados))\n",
    "    ruido_uniforme = np.random.uniform(-intensidade_uniforme, intensidade_uniforme, len(dados))\n",
    "    return dados + ruido_gaussiano + ruido_uniforme"
   ]
  },
  {
   "cell_type": "code",
   "execution_count": 119,
   "metadata": {},
   "outputs": [],
   "source": [
    "# Outliers\n",
    "\n",
    "def adicionar_outliers(dados, proporcao, faixa_outlier):\n",
    "    \"\"\"Adiciona outliers moderados ou extremos ao conjunto de dados\"\"\"\n",
    "    n_outliers = int(len(dados) * proporcao)\n",
    "    indices = np.random.choice(range(len(dados)), n_outliers, replace=False) # replace=falss means without repeating\n",
    "    for i in indices:\n",
    "        dados[i] = np.random.uniform(*faixa_outlier)\n",
    "    return dados"
   ]
  },
  {
   "cell_type": "code",
   "execution_count": 120,
   "metadata": {},
   "outputs": [],
   "source": [
    "# Absolute mean deviation\n",
    "\n",
    "def calcular_mad(observadas, esperadas):\n",
    "    return np.mean(np.abs(observadas - esperadas))"
   ]
  },
  {
   "cell_type": "code",
   "execution_count": 121,
   "metadata": {},
   "outputs": [],
   "source": [
    "# Kolmogorov-smirnov\n",
    "\n",
    "def calcular_ks (observadas, esperadas):\n",
    "\n",
    "    # Calculate accumulated frequencies\n",
    "    obs_acum=np.array(f_acumulada(observadas))\n",
    "    esp_acum=np.array(f_acumulada(esperadas))\n",
    "    \n",
    "    # Calculate distance\n",
    "    return np.max(np.abs(obs_acum - esp_acum))"
   ]
  },
  {
   "cell_type": "code",
   "execution_count": 122,
   "metadata": {},
   "outputs": [],
   "source": [
    "# Euclidean distance\n",
    "\n",
    "def calcular_euclidiana (observadas, esperadas):\n",
    "    return np.sqrt(np.sum((observadas - esperadas) ** 2))"
   ]
  },
  {
   "cell_type": "code",
   "execution_count": 123,
   "metadata": {},
   "outputs": [],
   "source": [
    "# Hellinger distance\n",
    "\n",
    "def calcular_hellinger(observadas, esperadas):\n",
    "    return np.sqrt(0.5 * np.sum((np.sqrt(observadas) - np.sqrt(esperadas))**2))"
   ]
  },
  {
   "cell_type": "code",
   "execution_count": 124,
   "metadata": {},
   "outputs": [],
   "source": [
    "# Kullback-Leiber divergence\n",
    "\n",
    "def calcular_kl(observadas, esperadas):\n",
    "    # Calculate KL Divergence\n",
    "    kl_value = entropy(observadas, esperadas)  # scipy.stats.entropy calculates KL when we pass two distributions\n",
    "    \n",
    "    return kl_value"
   ]
  },
  {
   "cell_type": "code",
   "execution_count": 125,
   "metadata": {},
   "outputs": [],
   "source": [
    "# Hypothesis tests\n",
    "\n",
    "def teste_hipoteses (teste, observacoes, numero_simulacoes):\n",
    "        # Expected frequencies for Benford’s Law\n",
    "    esperadas = distribuicao_benford(numero_simulacoes)\n",
    "    esperadas_norm=esperadas/sum(esperadas)\n",
    "\n",
    "    # Generate samples that follow Benford’s Law\n",
    "    valores_simulados = []\n",
    "\n",
    "    for _ in range(numero_simulacoes):\n",
    "        simulados = np.random.choice(np.arange(1, 10), p=np.array(esperadas_norm), size=int(sum(observacoes)))\n",
    "        freq_simuladas = [np.sum(simulados == d) for d in range(1, 10)]\n",
    "        match teste:\n",
    "            case \"mad\":\n",
    "                mad_simulado = calcular_mad(freq_simuladas, esperadas)\n",
    "                valores_simulados.append(mad_simulado)\n",
    "            case \"ks\":\n",
    "                ks_simulado= calcular_ks(freq_simuladas,esperadas)\n",
    "                valores_simulados.append(ks_simulado)\n",
    "            case \"euc\":\n",
    "                euclidiana_simulado= calcular_euclidiana(freq_simuladas,esperadas)\n",
    "                valores_simulados.append(euclidiana_simulado)\n",
    "            case \"hel\":\n",
    "                hellinger_simulado= calcular_hellinger(freq_simuladas,esperadas)\n",
    "                valores_simulados.append(hellinger_simulado)\n",
    "            case \"kl\":\n",
    "                kl_simulado= calcular_kl(freq_simuladas,esperadas)\n",
    "                valores_simulados.append(kl_simulado)\n",
    "\n",
    "        \n",
    "\n",
    "     # calculate observed value:\n",
    "    match teste:\n",
    "        case \"mad\":\n",
    "            valor_observado = calcular_mad(observacoes, esperadas)\n",
    "        case \"ks\":\n",
    "            valor_observado= calcular_ks(observacoes,esperadas)\n",
    "        case \"euc\":\n",
    "            valor_observado = calcular_euclidiana(observacoes, esperadas)\n",
    "        case \"hel\":\n",
    "            valor_observado = calcular_hellinger(observacoes, esperadas)\n",
    "        case \"kl\":\n",
    "            valor_observado = calcular_kl(observacoes, esperadas)\n",
    "        \n",
    "\n",
    "    # Calculate p-value\n",
    "    p_value_teste = np.mean(np.array(valores_simulados) >= valor_observado) # proportion of values higher than expected.\n",
    "\n",
    "    return(valor_observado,p_value_teste)"
   ]
  },
  {
   "cell_type": "code",
   "execution_count": 126,
   "metadata": {},
   "outputs": [],
   "source": [
    "\n",
    "def Fisher(p_values):\n",
    "\n",
    "    fisher_stat = -2 * sum(np.log(p_values))\n",
    "    if fisher_stat == float('-inf'):\n",
    "        print(p_values)\n",
    "    combined_p_value = 1 - chi2.cdf(fisher_stat, 2 * len(p_values)) # chi2.cdf -> cumulative chi2 distribution\n",
    "    return combined_p_value"
   ]
  },
  {
   "cell_type": "code",
   "execution_count": 127,
   "metadata": {},
   "outputs": [],
   "source": [
    "# I did this function to solve situations of incomplete confusion matrices and avoid errors\n",
    "\n",
    "def matriz_confusao(class_real, previsto):\n",
    "    # Generate the confusion matrix\n",
    "    labels = [0, 1]  # Expected classes\n",
    "    conf_matrix = confusion_matrix(class_real, previsto, labels=labels)\n",
    "\n",
    "    tn, fp, fn, tp = 0, 0, 0, 0\n",
    "\n",
    "    # Direct extraction of values if both classes exist\n",
    "    if conf_matrix.shape == (2, 2):\n",
    "        tn, fp, fn, tp = conf_matrix.ravel()\n",
    "    else:  # If there is only one class in the data\n",
    "        if 0 in class_real:\n",
    "            tn = conf_matrix[0, 0] if conf_matrix.shape[0] > 0 else 0\n",
    "            fp = conf_matrix[0, 1] if conf_matrix.shape[1] > 1 else 0\n",
    "        if 1 in class_real:\n",
    "            fn = conf_matrix[1, 0] if conf_matrix.shape[0] > 1 else 0\n",
    "            tp = conf_matrix[1, 1] if conf_matrix.shape[1] > 1 else 0\n",
    "    \n",
    "    return tn, fp, fn, tp, conf_matrix"
   ]
  },
  {
   "cell_type": "code",
   "execution_count": 128,
   "metadata": {},
   "outputs": [],
   "source": [
    "# draw the confusion matrix\n",
    "\n",
    "def desenhar_matriz_confusão (class_real, previsto):\n",
    "      # Actual class count in the data\n",
    "    unique, counts = np.unique(class_real, return_counts=True)\n",
    "    class_counts = dict(zip(unique, counts))\n",
    "\n",
    "    tn, fp, fn, tp, conf_matrix  = matriz_confusao(class_real, previsto)\n",
    "\n",
    "    # Display the confusion matrix\n",
    "    print(\"Matriz de Confusão :\")\n",
    "    print('VN   FP')\n",
    "    print('FN   VP')\n",
    "    print(' ')\n",
    "    print(conf_matrix)\n",
    "    print('--------------')\n",
    "    print('Classificação real')\n",
    "    print(\"Negativos (linhas manipuladas):\", class_counts.get(0, 0))\n",
    "    print(\"Positivos (linhas sem manipulação):\", class_counts.get(1, 0))\n",
    "    print(\"---------------------------\")\n",
    "    print(\"---------------------------\")\n",
    "    print(\"(tn, fp, fn, tp) =\", (tn, fp, fn, tp))"
   ]
  },
  {
   "cell_type": "code",
   "execution_count": 129,
   "metadata": {},
   "outputs": [],
   "source": [
    "def gerar_roc(class_real, p_values, alpha_values):\n",
    "    fprs = []\n",
    "    tprs = []\n",
    "\n",
    "    p_values = p_values.flatten()  # Ensure that p_values is a one-dimensional vector\n",
    "\n",
    "    # Calculate overall ROC and AUC before loop (to avoid unnecessary calculations)\n",
    "    fpr_full, tpr_full, _ = roc_curve(class_real, p_values)\n",
    "    auc_value = auc(fpr_full, tpr_full)\n",
    "    print(f\"AUC total: {auc_value}\")\n",
    "\n",
    "    for alpha in alpha_values:  \n",
    "        previsto = (p_values < alpha).astype(int) # positive values - with anomalies\n",
    "\n",
    "        # Calculate confusion matrix\n",
    "        tn, fp, fn, tp = confusion_matrix(class_real, previsto).ravel()\n",
    "\n",
    "        # Calculate the rate of false positives and true positives\n",
    "        fpr = fp / (fp + tn) if (fp + tn) > 0 else 0  \n",
    "        tpr = tp / (tp + fn) if (tp + fn) > 0 else 0  \n",
    "\n",
    "        fprs.append(fpr)\n",
    "        tprs.append(tpr)\n",
    "\n",
    "    # Generate the ROC curve\n",
    "    plt.figure(figsize=(6, 6))\n",
    "    plt.plot(fprs, tprs, marker=\"o\", label=\"ROC curve\")\n",
    "    plt.plot([0, 1], [0, 1], linestyle=\"--\", color=\"gray\")  # Reference line (random model)\n",
    "    plt.xlabel(\"1-Specificity (FPR)\")\n",
    "    plt.ylabel(\"Sensibility (TPR)\")\n",
    "    plt.legend()\n",
    "    plt.grid()\n",
    "    plt.show()\n",
    "\n",
    "    return np.array(fprs), np.array(tprs), np.array(alpha_values)\n",
    "\n",
    "\n"
   ]
  },
  {
   "cell_type": "code",
   "execution_count": 130,
   "metadata": {},
   "outputs": [],
   "source": [
    "# Draw chart of the proportions of the digits\n",
    "\n",
    "def grafico_digitos (dados,nl):\n",
    "    # Creation of the figure and axes\n",
    "    fig, ax = plt.subplots(figsize=(12, 6))\n",
    "\n",
    "    # Data for the Benford’s Law chart\n",
    "    prop_ds = np.array(dados[nl,:-1])\n",
    "         \n",
    "    # Calculate the frequency of the first digits\n",
    "    xv = range(1, 10)\n",
    "    yv = distribuicao_benford(colunas)\n",
    "    yv = yv/colunas\n",
    "\n",
    "    # Plot the proportions according to Benford’s Law as a line\n",
    "    ax.plot(xv, yv, marker='o', label=\"Benford's Law Distribution\", linestyle='-', color='blue', alpha=0.6)\n",
    "\n",
    "    # Notes for the values of Benford’s Law\n",
    "    for i, value in enumerate(yv):\n",
    "        ax.annotate(f'{value:.3f}',  # Round the annotation to 3 decimal places\n",
    "                    xy=(xv[i], value),\n",
    "                    xytext=(0, 5),  # Offset at the annotation position\n",
    "                    textcoords='offset points',\n",
    "                    ha='center',\n",
    "                    va='bottom')\n",
    "\n",
    "    # Data for the dataset chart\n",
    " \n",
    "    x = list(range(1, 10)) \n",
    "    y = frequencia_primeiros_digitos(prop_ds)\n",
    "    y = y/len(prop_ds)\n",
    "\n",
    "    # Plot the proportions of the dataset as a line\n",
    "    ax.plot(x, y, marker='o', label=f\"Digits frequency in line nr. {nl}\", linestyle='-', color='orange', alpha=0.6)\n",
    "\n",
    "    # Annotations for the dataset values\n",
    "    for i, value in enumerate(y):\n",
    "        ax.annotate(f'{value}',\n",
    "                    xy=(x[i], value),\n",
    "                    xytext=(0, 3),\n",
    "                    textcoords='offset points',\n",
    "                    ha='center',\n",
    "                    va='bottom')\n",
    "\n",
    "    # Axis and subtitle settings\n",
    "    ax.set_xlabel(\"First Digit\", fontsize=14)\n",
    "    ax.set_ylabel(\"Frequency\", fontsize=14)\n",
    "    ax.legend(fontsize=14)\n",
    "    ax.set_xticks(list(range(1, 10)))  # Defining x axis ticks\n",
    "    ax.set_xticklabels(list(range(1, 10)))  # Labels for the ticks\n",
    "\n",
    "    # display the graph\n",
    "    plt.show()"
   ]
  },
  {
   "cell_type": "markdown",
   "metadata": {},
   "source": [
    "Generate data"
   ]
  },
  {
   "cell_type": "code",
   "execution_count": 131,
   "metadata": {},
   "outputs": [
    {
     "name": "stdout",
     "output_type": "stream",
     "text": [
      "1001\n",
      "----------------------\n"
     ]
    }
   ],
   "source": [
    "uniforme=np.random.uniform(low=0, high=1, size=colunas)\n",
    "bfl_numb=10**uniforme \n",
    "result=np.append(bfl_numb,0) # follows the law of Benford, label 0\n",
    "print(len(result))\n",
    "print(\"----------------------\")\n",
    "\n",
    "i=1\n",
    "i2=linhas_s_fraude+1\n",
    "while i<linhas_s_fraude:\n",
    "    bfl_numb=gerar_num_benford (colunas)\n",
    "    bfl_numb=np.append(bfl_numb,0) # 0 --> no anomalies\n",
    "    bfl_numb=abs(bfl_numb)\n",
    "    result = np.vstack([result, bfl_numb])\n",
    "    i=i+1\n",
    "\n",
    "while i2 in range(linhas_s_fraude+1,linhas+1):\n",
    "    ben_aux=gerar_num_benford (qtde_fraude_linhaF)\n",
    "    #anom = adicionar_ruido_gaussiano(ben_aux, intensidade_gauss)\n",
    "    #anom = adicionar_ruido_uniforme(ben_aux, intensidade_uniforme)\n",
    "    #anom = adicionar_ruido_misto(ben_aux, intensidade_gauss, intensidade_uniforme)\n",
    "    anom = adicionar_outliers(ben_aux, prop_outliers, faixa_outlier)\n",
    "    anom=np.random.uniform(low=0, high=100000, size=qtde_fraude_linhaF)\n",
    "    anom=abs(anom)\n",
    "    ben=np.random.uniform(low=0, high=1, size=qtde_ben_linhaF)\n",
    "    bfl_numb=10**ben\n",
    "    bfl_numb=abs(bfl_numb)\n",
    "    bfl_numb=np.append(bfl_numb,anom)\n",
    "    bfl_numb=np.append(bfl_numb,1) # 1 --> with anomalies\n",
    "    result = np.vstack([result, bfl_numb])\n",
    "    i2=i2+1\n",
    "df_result=pd.DataFrame(result)\n",
    "df_final = df_result.sample(frac=1, random_state=42).reset_index(drop=True)\n",
    "dados_finais=array = df_final.to_numpy()\n",
    "\n",
    "\n"
   ]
  },
  {
   "cell_type": "code",
   "execution_count": 132,
   "metadata": {},
   "outputs": [
    {
     "data": {
      "text/plain": [
       "array([[5.88977999e+00, 3.01191213e+00, 5.57809512e+00, ...,\n",
       "        1.35510199e+00, 3.64438239e+00, 0.00000000e+00],\n",
       "       [3.89204909e+00, 4.64110786e+00, 4.44649215e+00, ...,\n",
       "        1.77855436e+04, 1.27960062e+04, 1.00000000e+00],\n",
       "       [5.45850539e+00, 4.73905214e+00, 5.40053715e+00, ...,\n",
       "        7.84743745e+04, 6.30706936e+04, 1.00000000e+00],\n",
       "       ...,\n",
       "       [1.89446840e+00, 3.70387968e+00, 2.61706604e+00, ...,\n",
       "        8.67108150e+04, 5.55608058e+04, 1.00000000e+00],\n",
       "       [3.88572531e+00, 5.34381855e+00, 2.09263360e+00, ...,\n",
       "        1.05643121e+00, 7.26867828e+00, 0.00000000e+00],\n",
       "       [8.50027186e+00, 3.32139842e+00, 5.88741999e+00, ...,\n",
       "        1.43922368e+00, 3.99251661e+00, 0.00000000e+00]])"
      ]
     },
     "execution_count": 132,
     "metadata": {},
     "output_type": "execute_result"
    }
   ],
   "source": [
    "dados_finais"
   ]
  },
  {
   "cell_type": "code",
   "execution_count": 133,
   "metadata": {},
   "outputs": [
    {
     "name": "stdout",
     "output_type": "stream",
     "text": [
      "[0 1 1 0 0 0 0 0 1 0 1 0 0 1 1 1 0 1 1 0 0 0 0 0 0 0 0 1 1 1 0 0 0 0 0 0 0\n",
      " 0 1 0 0 0 0 1 0 0 1 0 0 1 0 1 0 0 0 0 0 0 0 1 0 0 0 0 0 0 0 1 0 0 0 0 0 1\n",
      " 0 0 0 0 0 0 0 0 0 0 0 0 1 1 1 0 0 0 0 0 1 0 1 0 0 1 1 0 1 0 0 0 0 1 0 1 0\n",
      " 1 1 1 0 0 0 1 0 0 1 0 1 0 0 0 0 0 1 1 0 1 0 1 0 0 0 0 0 0 0 0 1 0 1 1 1 0\n",
      " 1 0 0 0 1 0 1 0 0 0 0 1 0 1 0 0 1 0 0 0 0 0 0 0 0 1 0 0 0 0 1 0 0 0 0 0 1\n",
      " 0 0 0 1 1 1 1 0 0 0 0 0 0 0 0 0 0 0 0 1 0 0 1 0 1 0 0 1 1 0 0 0 0 1 1 0 1\n",
      " 1 0 1 0 0 0 1 0 0 1 0 0 0 0 0 1 0 0 0 0 0 1 0 0 0 0 0 0 0 1 1 1 0 0 0 1 1\n",
      " 0 1 0 0 0 0 1 1 0 0 0 0 0 1 0 0 0 0 0 0 1 0 1 0 0 0 1 0 0 0 1 1 1 0 0 0 0\n",
      " 1 0 0 0 0 0 0 0 1 1 0 0 1 0 0 0 0 1 0 0 0 0 1 0 0 0 0 0 1 0 0 0 1 0 1 0 1\n",
      " 0 0 0 1 0 1 0 0 0 0 0 0 0 0 1 0 1 0 0 1 0 0 0 0 0 0 0 0 0 0 0 0 0 1 0 0 1\n",
      " 0 1 0 0 0 1 0 0 1 1 0 0 1 0 0 1 0 0 1 1 0 0 0 0 0 0 0 0 1 1 0 0 0 0 0 0 1\n",
      " 0 0 0 0 1 1 0 1 1 0 1 0 0 0 1 0 0 0 0 0 0 0 0 0 0 0 0 0 0 0 0 1 0 0 0 1 0\n",
      " 0 0 0 0 0 0 0 1 0 0 0 0 1 0 0 0 0 0 0 1 0 0 0 0 0 0 0 0 1 0 0 1 1 1 0 0 0\n",
      " 0 0 0 0 0 0 0 0 0 1 0 1 0 0 0 0 0 1 1 0 0 0 1 1 1 0 0 1 1 0 0 0 0 0 1 0 0\n",
      " 1 0 0 0 1 0 0 0 1 0 0 0 0 0 0 0 1 0 0 0 1 0 0 0 0 0 0 1 0 1 0 0 0 0 0 0 1\n",
      " 1 0 0 0 0 0 1 1 1 0 0 0 0 0 1 0 0 1 0 0 1 0 0 0 0 0 0 1 1 1 0 0 0 0 0 0 1\n",
      " 0 1 1 0 0 0 0 1 0 0 0 0 0 1 0 0 0 0 0 0 1 1 1 0 1 0 1 0 1 0 1 0 0 0 0 1 1\n",
      " 0 1 0 0 1 1 0 0 1 0 1 0 0 0 1 0 0 1 1 1 1 0 1 1 0 1 1 0 1 0 1 0 1 1 1 0 0\n",
      " 0 0 0 0 1 0 1 0 0 0 0 0 1 0 0 1 1 0 1 0 0 0 0 0 1 0 0 1 1 0 0 0 0 0 1 0 1\n",
      " 0 1 0 0 0 1 1 1 0 0 0 0 0 0 1 0 0 1 0 0 0 0 0 0 0 0 0 0 0 1 1 1 1 1 0 0 0\n",
      " 1 1 1 1 0 0 1 1 1 1 0 1 1 0 1 0 0 1 0 0 0 0 0 1 0 0 0 1 1 0 1 0 0 0 0 1 1\n",
      " 0 0 1 0 0 0 0 0 0 1 1 0 0 0 0 1 1 1 0 1 1 0 1 0 1 0 1 0 0 0 0 0 0 0 0 0 1\n",
      " 1 1 1 1 0 0 0 1 0 0 0 0 1 0 0 1 0 1 1 0 0 1 0 1 0 1 0 1 0 0 1 1 0 0 0 0 0\n",
      " 1 1 0 0 0 1 0 0 1 0 0 0 0 0 0 0 0 0 0 0 0 1 0 1 1 0 1 0 0 0 0 0 0 1 0 1 0\n",
      " 1 0 1 1 1 0 1 0 1 0 0 1 1 1 0 0 0 0 1 0 1 0 1 1 0 0 0 0 1 1 0 0 0 0 1 0 0\n",
      " 0 0 0 0 1 0 0 1 0 0 0 0 0 0 0 1 1 0 1 0 1 0 1 0 0 1 0 0 0 1 0 0 0 0 0 0 0\n",
      " 1 1 0 0 0 0 0 0 1 0 0 1 0 0 0 1 0 0 0 0 1 0 0 0 0 0 0 0 0 0 0 1 0 0 0 1 0\n",
      " 0]\n"
     ]
    }
   ],
   "source": [
    "class_real = dados_finais[:, -1]\n",
    "class_real=class_real.astype(int)\n",
    "print(class_real)"
   ]
  },
  {
   "cell_type": "code",
   "execution_count": 134,
   "metadata": {},
   "outputs": [
    {
     "name": "stdout",
     "output_type": "stream",
     "text": [
      "Negativos 700\n",
      "Positivos 300\n"
     ]
    }
   ],
   "source": [
    "counts = np.bincount(class_real)\n",
    "print(\"Negativos\", counts[0])\n",
    "print(\"Positivos\", counts[1])"
   ]
  },
  {
   "cell_type": "code",
   "execution_count": 135,
   "metadata": {},
   "outputs": [
    {
     "data": {
      "image/png": "[encoded data removed]",
      "text/plain": [
       "<Figure size 1200x600 with 1 Axes>"
      ]
     },
     "metadata": {},
     "output_type": "display_data"
    }
   ],
   "source": [
    "grafico_digitos (dados_finais,20)"
   ]
  },
  {
   "cell_type": "code",
   "execution_count": 136,
   "metadata": {},
   "outputs": [
    {
     "data": {
      "text/plain": [
       "numpy.ndarray"
      ]
     },
     "execution_count": 136,
     "metadata": {},
     "output_type": "execute_result"
    }
   ],
   "source": [
    "type (dados_finais)"
   ]
  },
  {
   "cell_type": "code",
   "execution_count": null,
   "metadata": {},
   "outputs": [],
   "source": [
    "np.savetxt('Dataset.txt', dados_finais, delimiter=',')"
   ]
  }
 ],
 "metadata": {
  "kernelspec": {
   "display_name": "Python 3",
   "language": "python",
   "name": "python3"
  },
  "language_info": {
   "codemirror_mode": {
    "name": "ipython",
    "version": 3
   },
   "file_extension": ".py",
   "mimetype": "text/x-python",
   "name": "python",
   "nbconvert_exporter": "python",
   "pygments_lexer": "ipython3",
   "version": "3.11.4"
  }
 },
 "nbformat": 4,
 "nbformat_minor": 2
}
